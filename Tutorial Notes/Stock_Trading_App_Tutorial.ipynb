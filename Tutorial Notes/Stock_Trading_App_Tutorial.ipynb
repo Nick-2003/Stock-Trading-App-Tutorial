{
 "cells": [
  {
   "cell_type": "markdown",
   "id": "3d0c9781-c002-4416-8293-ecc179ccd96f",
   "metadata": {},
   "source": [
    "# Stock Trading App Tutorial\n",
    "- https://www.youtube.com/watch?v=OFnOEIyqSRg&list=PLvzuUVysUFOuoRna8KhschkVVUo2E2g6G&index=1\n",
    "- https://github.com/hackingthemarkets/fullstack-trading-app"
   ]
  },
  {
   "attachments": {},
   "cell_type": "markdown",
   "id": "6bab7ecb-63a1-475e-8aac-c899c95dd444",
   "metadata": {},
   "source": [
    "To run a `.py` file: \n",
    "- Terminal\n",
    "- `python test.py` "
   ]
  },
  {
   "cell_type": "markdown",
   "id": "ad193c54-bb6a-4278-93c5-5b396e43e054",
   "metadata": {},
   "source": [
    "## Lessons  \n",
    "- Porting CSV files to relational database\n",
    "- SQL intro and integration with Python\n",
    "- Scheduling scripts to run over time and obtain new price data\n",
    "    - Automated trading strategies through APIs \n",
    "    - Retrieval of historical price data through Alpaca and Polygon APIs\n",
    "- FastAPI for stock data browsing \n",
    "    - Automated example of strategies \n",
    "- Web frontend dashboard, technical indicators\n",
    "- Pandas with SQL\n",
    "- Tulip indicators for technical analysis\n",
    "- User authentication (Could make it read-only)\n",
    "- Trading UI with alerts\n",
    "- Profits from automated strategies \n",
    "    - Bollinger bands \n",
    "    - Risk management, position sizing, liquidation \n",
    "    - Trailing stop losses \n",
    "    - Backtesting trading strategies using historical minute data stored in SQLite\n",
    "- Server setup\n",
    "    - mytradingsite.com"
   ]
  },
  {
   "cell_type": "code",
   "execution_count": null,
   "id": "e19b129d-5759-4fdb-a1f1-65952dc2297e",
   "metadata": {},
   "outputs": [],
   "source": []
  }
 ],
 "metadata": {
  "kernelspec": {
   "display_name": "Python 3 (ipykernel)",
   "language": "python",
   "name": "python3"
  },
  "language_info": {
   "codemirror_mode": {
    "name": "ipython",
    "version": 3
   },
   "file_extension": ".py",
   "mimetype": "text/x-python",
   "name": "python",
   "nbconvert_exporter": "python",
   "pygments_lexer": "ipython3",
   "version": "3.12.4"
  }
 },
 "nbformat": 4,
 "nbformat_minor": 5
}
